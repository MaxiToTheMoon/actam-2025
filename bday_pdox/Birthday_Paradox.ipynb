{
 "cells": [
  {
   "cell_type": "code",
   "execution_count": 1,
   "id": "5b510fa8-283c-4732-a741-d5963dfd2ded",
   "metadata": {},
   "outputs": [
    {
     "data": {
      "text/plain": [
       "1"
      ]
     },
     "execution_count": 1,
     "metadata": {},
     "output_type": "execute_result"
    }
   ],
   "source": [
    "1"
   ]
  },
  {
   "cell_type": "code",
   "execution_count": 2,
   "id": "30f72cab-2c37-419b-8a5e-a16c0d005bd3",
   "metadata": {},
   "outputs": [
    {
     "data": {
      "text/plain": [
       "2"
      ]
     },
     "execution_count": 2,
     "metadata": {},
     "output_type": "execute_result"
    }
   ],
   "source": [
    "1+1"
   ]
  },
  {
   "cell_type": "code",
   "execution_count": 3,
   "id": "5c2559a3-15d5-4c6d-8c56-2cfb2223dd5b",
   "metadata": {},
   "outputs": [
    {
     "data": {
      "text/plain": [
       "6"
      ]
     },
     "execution_count": 3,
     "metadata": {},
     "output_type": "execute_result"
    }
   ],
   "source": [
    "2*3"
   ]
  },
  {
   "cell_type": "code",
   "execution_count": 4,
   "id": "62447190-ca04-46ff-a30e-eeb5dd37cdfb",
   "metadata": {},
   "outputs": [
    {
     "data": {
      "text/plain": [
       "39"
      ]
     },
     "execution_count": 4,
     "metadata": {},
     "output_type": "execute_result"
    }
   ],
   "source": [
    "(1+2)*(5+8)"
   ]
  },
  {
   "cell_type": "code",
   "execution_count": 5,
   "id": "b9a6a16f-3b54-4935-b4a0-60320c514f54",
   "metadata": {},
   "outputs": [
    {
     "data": {
      "text/plain": [
       "8"
      ]
     },
     "execution_count": 5,
     "metadata": {},
     "output_type": "execute_result"
    }
   ],
   "source": [
    "2**3"
   ]
  },
  {
   "cell_type": "code",
   "execution_count": 6,
   "id": "a14b6d2c-16ab-4a8a-9147-b45b3f222bae",
   "metadata": {},
   "outputs": [
    {
     "data": {
      "text/plain": [
       "1267650600228229401496703205376"
      ]
     },
     "execution_count": 6,
     "metadata": {},
     "output_type": "execute_result"
    }
   ],
   "source": [
    "2**100"
   ]
  },
  {
   "cell_type": "code",
   "execution_count": 7,
   "id": "eaf193ec-c2dc-43b1-a405-c927e9c3c70f",
   "metadata": {},
   "outputs": [
    {
     "data": {
      "text/plain": [
       "114813069527425452423283320117768198402231770208869520047764273682576626139237031385665948631650626991844596463898746277344711896086305533142593135616665318539129989145312280000688779148240044871428926990063486244781615463646388363947317026040466353970904996558162398808944629605623311649536164221970332681344168908984458505602379484807914058900934776500429002716706625830522008132236281291761267883317206598995396418127021779858404042159853183251540889433902091920554957783589672039160081957216630582755380425583726015528348786419432054508915275783882625175435528800822842770817965453762184851149029376"
      ]
     },
     "execution_count": 7,
     "metadata": {},
     "output_type": "execute_result"
    }
   ],
   "source": [
    "2**2000"
   ]
  },
  {
   "cell_type": "code",
   "execution_count": 8,
   "id": "feff8c93-751c-49bb-94a0-6764dfb74b3a",
   "metadata": {},
   "outputs": [
    {
     "data": {
      "text/plain": [
       "1"
      ]
     },
     "execution_count": 8,
     "metadata": {},
     "output_type": "execute_result"
    }
   ],
   "source": [
    "round(1.2)"
   ]
  },
  {
   "cell_type": "code",
   "execution_count": 9,
   "id": "49194295-9c7c-411a-ab21-59a8159097a4",
   "metadata": {},
   "outputs": [],
   "source": [
    "from random import random"
   ]
  },
  {
   "cell_type": "code",
   "execution_count": 10,
   "id": "eeb95f3b-2014-4273-a5ec-dcbe2eb5132a",
   "metadata": {},
   "outputs": [
    {
     "data": {
      "text/plain": [
       "0.9835669947952607"
      ]
     },
     "execution_count": 10,
     "metadata": {},
     "output_type": "execute_result"
    }
   ],
   "source": [
    "random()"
   ]
  },
  {
   "cell_type": "code",
   "execution_count": 11,
   "id": "d19351b4-d114-413b-89d1-5c89185dc504",
   "metadata": {},
   "outputs": [
    {
     "data": {
      "text/plain": [
       "105.76413477349755"
      ]
     },
     "execution_count": 11,
     "metadata": {},
     "output_type": "execute_result"
    }
   ],
   "source": [
    "random()*365"
   ]
  },
  {
   "cell_type": "code",
   "execution_count": 18,
   "id": "fa62ab82-06cb-424b-92d6-13edb5bca641",
   "metadata": {},
   "outputs": [
    {
     "data": {
      "text/plain": [
       "238"
      ]
     },
     "execution_count": 18,
     "metadata": {},
     "output_type": "execute_result"
    }
   ],
   "source": [
    "round(random()*364)"
   ]
  },
  {
   "cell_type": "code",
   "execution_count": 21,
   "id": "9314f08e-17b0-4174-a68b-7f7b2ede5fd4",
   "metadata": {},
   "outputs": [],
   "source": [
    "from math import floor"
   ]
  },
  {
   "cell_type": "code",
   "execution_count": 22,
   "id": "b881ba63-2224-4321-91ae-3eca16ac3e74",
   "metadata": {},
   "outputs": [
    {
     "data": {
      "text/plain": [
       "1"
      ]
     },
     "execution_count": 22,
     "metadata": {},
     "output_type": "execute_result"
    }
   ],
   "source": [
    "floor(1.9999999999999)"
   ]
  },
  {
   "cell_type": "code",
   "execution_count": 25,
   "id": "97941a69-f0ee-4a18-a7bb-ceb071b94b7e",
   "metadata": {},
   "outputs": [
    {
     "data": {
      "text/plain": [
       "221"
      ]
     },
     "execution_count": 25,
     "metadata": {},
     "output_type": "execute_result"
    }
   ],
   "source": [
    "floor(random()*365)"
   ]
  },
  {
   "cell_type": "code",
   "execution_count": 26,
   "id": "837a9d94-36e6-46df-99a6-4269fa8d477e",
   "metadata": {},
   "outputs": [
    {
     "data": {
      "text/plain": [
       "1.2"
      ]
     },
     "execution_count": 26,
     "metadata": {},
     "output_type": "execute_result"
    }
   ],
   "source": [
    "1.2"
   ]
  },
  {
   "cell_type": "code",
   "execution_count": 27,
   "id": "acea3823-a1a6-4eac-b523-44c7f1d4b871",
   "metadata": {},
   "outputs": [
    {
     "data": {
      "text/plain": [
       "6"
      ]
     },
     "execution_count": 27,
     "metadata": {},
     "output_type": "execute_result"
    }
   ],
   "source": [
    "1+5"
   ]
  },
  {
   "cell_type": "code",
   "execution_count": 28,
   "id": "f451dd5a-3800-4831-a6be-90ef4b67f6fe",
   "metadata": {},
   "outputs": [
    {
     "data": {
      "text/plain": [
       "[1, 2, 3, 4, 5]"
      ]
     },
     "execution_count": 28,
     "metadata": {},
     "output_type": "execute_result"
    }
   ],
   "source": [
    "[1,2,3,4,5]"
   ]
  },
  {
   "cell_type": "code",
   "execution_count": 29,
   "id": "5a032ef9-a54b-44a0-8033-2616fc8549c8",
   "metadata": {},
   "outputs": [
    {
     "data": {
      "text/plain": [
       "[1, 5, 4, 5]"
      ]
     },
     "execution_count": 29,
     "metadata": {},
     "output_type": "execute_result"
    }
   ],
   "source": [
    "[1,2+3,4,5]"
   ]
  },
  {
   "cell_type": "code",
   "execution_count": 30,
   "id": "d6c8caa7-96e8-4a77-bfa4-a204c8816d58",
   "metadata": {},
   "outputs": [],
   "source": [
    "a = 1"
   ]
  },
  {
   "cell_type": "code",
   "execution_count": 31,
   "id": "d3d83356-cf30-4704-a5f3-0588daa8eb96",
   "metadata": {},
   "outputs": [
    {
     "data": {
      "text/plain": [
       "2"
      ]
     },
     "execution_count": 31,
     "metadata": {},
     "output_type": "execute_result"
    }
   ],
   "source": [
    "a+1"
   ]
  },
  {
   "cell_type": "code",
   "execution_count": 32,
   "id": "109fc230-853b-4c1f-af43-84f8776d164a",
   "metadata": {},
   "outputs": [],
   "source": [
    "a = 4"
   ]
  },
  {
   "cell_type": "code",
   "execution_count": 33,
   "id": "219b0b24-95c7-45e2-828f-866f5446054c",
   "metadata": {},
   "outputs": [
    {
     "data": {
      "text/plain": [
       "16"
      ]
     },
     "execution_count": 33,
     "metadata": {},
     "output_type": "execute_result"
    }
   ],
   "source": [
    "a*a"
   ]
  },
  {
   "cell_type": "code",
   "execution_count": 34,
   "id": "bd59727a-26d7-4a87-a513-3d95e7593992",
   "metadata": {},
   "outputs": [],
   "source": [
    "random_birthday = floor(random()*365)"
   ]
  },
  {
   "cell_type": "code",
   "execution_count": 35,
   "id": "10ca110e-d0f3-40c0-92e0-097dfbd3db89",
   "metadata": {},
   "outputs": [
    {
     "data": {
      "text/plain": [
       "0"
      ]
     },
     "execution_count": 35,
     "metadata": {},
     "output_type": "execute_result"
    }
   ],
   "source": [
    "random_birthday"
   ]
  },
  {
   "cell_type": "code",
   "execution_count": 36,
   "id": "8ad6043e-444d-44ff-98ca-773bcc5e6337",
   "metadata": {},
   "outputs": [],
   "source": [
    "random_birthay1 = floor(random()*365)"
   ]
  },
  {
   "cell_type": "code",
   "execution_count": 37,
   "id": "83aca375-c533-4cd2-891d-4ff8be57a526",
   "metadata": {},
   "outputs": [],
   "source": [
    "random_birthday2 = floor(random()*365)"
   ]
  },
  {
   "cell_type": "code",
   "execution_count": 38,
   "id": "b75b2ada-119c-4b56-ad5b-9cee25976151",
   "metadata": {},
   "outputs": [],
   "source": [
    "l = [1,2,3,4]"
   ]
  },
  {
   "cell_type": "code",
   "execution_count": 39,
   "id": "7b5fe79f-a9e2-4e08-af4a-7344afe6b94b",
   "metadata": {},
   "outputs": [
    {
     "data": {
      "text/plain": [
       "10"
      ]
     },
     "execution_count": 39,
     "metadata": {},
     "output_type": "execute_result"
    }
   ],
   "source": [
    "sum(l)"
   ]
  },
  {
   "cell_type": "code",
   "execution_count": 40,
   "id": "ac9ef8e2-ec2e-4b6d-bb25-4cf9ced8d25e",
   "metadata": {},
   "outputs": [
    {
     "data": {
      "text/plain": [
       "1"
      ]
     },
     "execution_count": 40,
     "metadata": {},
     "output_type": "execute_result"
    }
   ],
   "source": [
    "l[0]"
   ]
  },
  {
   "cell_type": "code",
   "execution_count": 41,
   "id": "3bc92aaf-8602-488b-ad78-e0fdd2d89634",
   "metadata": {},
   "outputs": [
    {
     "ename": "SyntaxError",
     "evalue": "invalid syntax (3448078495.py, line 1)",
     "output_type": "error",
     "traceback": [
      "\u001b[0;36m  Cell \u001b[0;32mIn[41], line 1\u001b[0;36m\u001b[0m\n\u001b[0;31m    numbers = [1,2,3,4,5,6,7,8,9...100]\u001b[0m\n\u001b[0m                                  ^\u001b[0m\n\u001b[0;31mSyntaxError\u001b[0m\u001b[0;31m:\u001b[0m invalid syntax\n"
     ]
    }
   ],
   "source": []
  },
  {
   "cell_type": "code",
   "execution_count": 43,
   "id": "ab94419b-5359-4ad3-8538-7785a0856416",
   "metadata": {},
   "outputs": [
    {
     "data": {
      "text/plain": [
       "[0, 1, 2, 3, 4, 5, 6, 7, 8, 9]"
      ]
     },
     "execution_count": 43,
     "metadata": {},
     "output_type": "execute_result"
    }
   ],
   "source": [
    "list(range(10))"
   ]
  },
  {
   "cell_type": "code",
   "execution_count": 48,
   "id": "6ca738cd-3071-4446-8797-54aec69ff5cd",
   "metadata": {},
   "outputs": [
    {
     "data": {
      "text/plain": [
       "5050"
      ]
     },
     "execution_count": 48,
     "metadata": {},
     "output_type": "execute_result"
    }
   ],
   "source": [
    "sum(list(range(100)))+100"
   ]
  },
  {
   "cell_type": "code",
   "execution_count": null,
   "id": "18a64abc-55a7-4b60-9e57-0176c82fb337",
   "metadata": {},
   "outputs": [],
   "source": [
    "[1, 4, 9, 16, 25, .... 10000]"
   ]
  },
  {
   "cell_type": "code",
   "execution_count": 49,
   "id": "96d188b6-5421-4f03-9a6f-a584537e22c8",
   "metadata": {},
   "outputs": [
    {
     "data": {
      "text/plain": [
       "[1, 4, 9, 16, 25, 36, 49, 64, 81, 100]"
      ]
     },
     "execution_count": 49,
     "metadata": {},
     "output_type": "execute_result"
    }
   ],
   "source": [
    "[x**2 for x in [1,2,3,4,5,6,7,8,9,10]]"
   ]
  },
  {
   "cell_type": "markdown",
   "id": "167de1a4-79bf-489c-820f-3a0459005b2b",
   "metadata": {},
   "source": [
    "welcome _list comprehensions_!"
   ]
  },
  {
   "cell_type": "code",
   "execution_count": 53,
   "id": "4c785630-6e02-4987-a5ca-8fae755ee561",
   "metadata": {},
   "outputs": [
    {
     "data": {
      "text/plain": [
       "338350"
      ]
     },
     "execution_count": 53,
     "metadata": {},
     "output_type": "execute_result"
    }
   ],
   "source": [
    "sum([x**2 for x in range(101)])"
   ]
  },
  {
   "cell_type": "code",
   "execution_count": 54,
   "id": "424bc686-0ad0-4313-8993-29247c042488",
   "metadata": {},
   "outputs": [
    {
     "data": {
      "text/plain": [
       "[1, 4, 9]"
      ]
     },
     "execution_count": 54,
     "metadata": {},
     "output_type": "execute_result"
    }
   ],
   "source": [
    "[a**2 for a in [1,2,3]]"
   ]
  },
  {
   "cell_type": "code",
   "execution_count": 55,
   "id": "13ad506c-bd0b-463b-8d03-d1e89990b14d",
   "metadata": {},
   "outputs": [
    {
     "data": {
      "text/plain": [
       "[146]"
      ]
     },
     "execution_count": 55,
     "metadata": {},
     "output_type": "execute_result"
    }
   ],
   "source": [
    "[floor(random()*365)]"
   ]
  },
  {
   "cell_type": "code",
   "execution_count": 56,
   "id": "b1790c7c-2815-4c70-b96d-a85716a32470",
   "metadata": {},
   "outputs": [
    {
     "data": {
      "text/plain": [
       "[349, 214]"
      ]
     },
     "execution_count": 56,
     "metadata": {},
     "output_type": "execute_result"
    }
   ],
   "source": [
    "[floor(random()*365), floor(random()*365)]"
   ]
  },
  {
   "cell_type": "code",
   "execution_count": 57,
   "id": "cb46a755-f366-4ae9-9ce9-fe65b8fa6eb8",
   "metadata": {},
   "outputs": [
    {
     "data": {
      "text/plain": [
       "[286,\n",
       " 248,\n",
       " 181,\n",
       " 176,\n",
       " 48,\n",
       " 155,\n",
       " 73,\n",
       " 28,\n",
       " 161,\n",
       " 277,\n",
       " 57,\n",
       " 54,\n",
       " 85,\n",
       " 102,\n",
       " 309,\n",
       " 30,\n",
       " 79,\n",
       " 40,\n",
       " 265,\n",
       " 157,\n",
       " 66,\n",
       " 167,\n",
       " 268,\n",
       " 8,\n",
       " 41,\n",
       " 331,\n",
       " 80,\n",
       " 348,\n",
       " 282,\n",
       " 186,\n",
       " 330,\n",
       " 30,\n",
       " 270]"
      ]
     },
     "execution_count": 57,
     "metadata": {},
     "output_type": "execute_result"
    }
   ],
   "source": [
    "[floor(random()*365) for x in range(33)]"
   ]
  },
  {
   "cell_type": "code",
   "execution_count": 58,
   "id": "16c9cd6a-8487-48c1-ad7f-de546188263d",
   "metadata": {},
   "outputs": [
    {
     "name": "stdout",
     "output_type": "stream",
     "text": [
      "[286, 248, 181, 176, 48, 155, 73, 28, 161, 277, 57, 54, 85, 102, 309, 30, 79, 40, 265, 157, 66, 167, 268, 8, 41, 331, 80, 348, 282, 186, 330, 30, 270]\n"
     ]
    }
   ],
   "source": [
    "print(_)"
   ]
  },
  {
   "cell_type": "code",
   "execution_count": 59,
   "id": "816b8606-9b32-4e15-96cf-6830f0034bda",
   "metadata": {},
   "outputs": [
    {
     "name": "stdout",
     "output_type": "stream",
     "text": [
      "[65, 36, 214, 46, 4, 100, 301, 94, 50, 207, 123, 227, 4, 57, 51, 115, 80, 306, 12, 354, 335, 260, 235, 130, 111, 37, 181, 46, 121, 157, 221, 89, 190]\n"
     ]
    }
   ],
   "source": [
    "print([floor(random()*365) for x in range(33)])"
   ]
  },
  {
   "cell_type": "code",
   "execution_count": 60,
   "id": "296f9128-6d1d-4dbb-860c-8913c149de50",
   "metadata": {},
   "outputs": [],
   "source": [
    "birthdays = [floor(random()*365) for x in range(33)]"
   ]
  },
  {
   "cell_type": "code",
   "execution_count": 61,
   "id": "2df40960-f165-40cd-b236-b9c13c98c923",
   "metadata": {},
   "outputs": [
    {
     "data": {
      "text/plain": [
       "33"
      ]
     },
     "execution_count": 61,
     "metadata": {},
     "output_type": "execute_result"
    }
   ],
   "source": [
    "len(birthdays)"
   ]
  },
  {
   "cell_type": "code",
   "execution_count": 62,
   "id": "d00a84e7-3186-4ad6-83c6-46d4efdd9053",
   "metadata": {},
   "outputs": [
    {
     "data": {
      "text/plain": [
       "{1, 2, 3, 4, 5, 6, 7, 8}"
      ]
     },
     "execution_count": 62,
     "metadata": {},
     "output_type": "execute_result"
    }
   ],
   "source": [
    "{1,2,3,4,5,6,7,8}"
   ]
  },
  {
   "cell_type": "code",
   "execution_count": 63,
   "id": "1ae75b5d-9eda-4aaa-ad02-028324e17c70",
   "metadata": {},
   "outputs": [
    {
     "data": {
      "text/plain": [
       "{1, 2, 3, 4, 5}"
      ]
     },
     "execution_count": 63,
     "metadata": {},
     "output_type": "execute_result"
    }
   ],
   "source": [
    "{1,2,2,2,2,2,2,2,3,3,3,4,5}"
   ]
  },
  {
   "cell_type": "code",
   "execution_count": 64,
   "id": "0cac68f0-9ee6-40fc-864d-f390370a9904",
   "metadata": {},
   "outputs": [
    {
     "data": {
      "text/plain": [
       "[1, 2, 2, 2, 2, 2, 3, 3, 3, 3, 3, 4]"
      ]
     },
     "execution_count": 64,
     "metadata": {},
     "output_type": "execute_result"
    }
   ],
   "source": [
    "[1,2,2,2,2,2,3,3,3,3,3,4]"
   ]
  },
  {
   "cell_type": "code",
   "execution_count": 65,
   "id": "69e951c1-24f2-4d22-9b05-f87a44391e45",
   "metadata": {},
   "outputs": [
    {
     "data": {
      "text/plain": [
       "{1, 2, 3, 4}"
      ]
     },
     "execution_count": 65,
     "metadata": {},
     "output_type": "execute_result"
    }
   ],
   "source": [
    "set([1,2,3,3,3,3,3,3,3,3,4])"
   ]
  },
  {
   "cell_type": "code",
   "execution_count": 66,
   "id": "2da387bf-9aa4-4ba6-bef2-950fb5d59da1",
   "metadata": {},
   "outputs": [
    {
     "data": {
      "text/plain": [
       "{1, 2, 3}"
      ]
     },
     "execution_count": 66,
     "metadata": {},
     "output_type": "execute_result"
    }
   ],
   "source": [
    "set([1,2,2,2,2,2,2,2,3])"
   ]
  },
  {
   "cell_type": "code",
   "execution_count": 67,
   "id": "3230fed9-b607-4ea7-a9de-6b92a85aa136",
   "metadata": {},
   "outputs": [
    {
     "data": {
      "text/plain": [
       "3"
      ]
     },
     "execution_count": 67,
     "metadata": {},
     "output_type": "execute_result"
    }
   ],
   "source": [
    "len(set([1,2,2,2,2,2,2,2,3]))"
   ]
  },
  {
   "cell_type": "code",
   "execution_count": 68,
   "id": "e3653bbf-2ddc-4d32-9a4f-5ab2d73a3350",
   "metadata": {},
   "outputs": [
    {
     "data": {
      "text/plain": [
       "[355,\n",
       " 155,\n",
       " 364,\n",
       " 230,\n",
       " 298,\n",
       " 145,\n",
       " 183,\n",
       " 161,\n",
       " 148,\n",
       " 310,\n",
       " 12,\n",
       " 285,\n",
       " 122,\n",
       " 92,\n",
       " 274,\n",
       " 213,\n",
       " 122,\n",
       " 180,\n",
       " 217,\n",
       " 148,\n",
       " 240,\n",
       " 364,\n",
       " 296,\n",
       " 355,\n",
       " 291,\n",
       " 253,\n",
       " 27,\n",
       " 159,\n",
       " 354,\n",
       " 335,\n",
       " 174,\n",
       " 83,\n",
       " 53]"
      ]
     },
     "execution_count": 68,
     "metadata": {},
     "output_type": "execute_result"
    }
   ],
   "source": [
    "birthdays"
   ]
  },
  {
   "cell_type": "code",
   "execution_count": 92,
   "id": "11d4d7a2-f032-47f4-91f4-4df2909436a9",
   "metadata": {},
   "outputs": [],
   "source": [
    "experiments = [len(set([floor(random()*365) for x in range(33)])) < 33 for y in range(100)]"
   ]
  },
  {
   "cell_type": "code",
   "execution_count": 93,
   "id": "135bb689-cafc-4aa4-a819-d4e06176864d",
   "metadata": {},
   "outputs": [
    {
     "data": {
      "text/plain": [
       "[True,\n",
       " True,\n",
       " False,\n",
       " True,\n",
       " True,\n",
       " True,\n",
       " False,\n",
       " True,\n",
       " False,\n",
       " True,\n",
       " False,\n",
       " False,\n",
       " True,\n",
       " True,\n",
       " True,\n",
       " True,\n",
       " True,\n",
       " True,\n",
       " False,\n",
       " False,\n",
       " True,\n",
       " False,\n",
       " True,\n",
       " True,\n",
       " True,\n",
       " True,\n",
       " True,\n",
       " True,\n",
       " True,\n",
       " True,\n",
       " True,\n",
       " True,\n",
       " True,\n",
       " False,\n",
       " False,\n",
       " True,\n",
       " True,\n",
       " True,\n",
       " True,\n",
       " True,\n",
       " True,\n",
       " True,\n",
       " True,\n",
       " False,\n",
       " True,\n",
       " True,\n",
       " True,\n",
       " True,\n",
       " True,\n",
       " True,\n",
       " True,\n",
       " True,\n",
       " False,\n",
       " True,\n",
       " True,\n",
       " False,\n",
       " True,\n",
       " True,\n",
       " True,\n",
       " False,\n",
       " True,\n",
       " True,\n",
       " True,\n",
       " True,\n",
       " True,\n",
       " True,\n",
       " True,\n",
       " True,\n",
       " False,\n",
       " True,\n",
       " True,\n",
       " False,\n",
       " True,\n",
       " False,\n",
       " False,\n",
       " True,\n",
       " True,\n",
       " False,\n",
       " True,\n",
       " True,\n",
       " True,\n",
       " True,\n",
       " True,\n",
       " True,\n",
       " False,\n",
       " True,\n",
       " False,\n",
       " True,\n",
       " True,\n",
       " False,\n",
       " True,\n",
       " True,\n",
       " True,\n",
       " True,\n",
       " False,\n",
       " False,\n",
       " True,\n",
       " True,\n",
       " False,\n",
       " True]"
      ]
     },
     "execution_count": 93,
     "metadata": {},
     "output_type": "execute_result"
    }
   ],
   "source": [
    "experiments"
   ]
  },
  {
   "cell_type": "code",
   "execution_count": 95,
   "id": "c31bb76c-8f6c-413f-9352-fe2330bcaa13",
   "metadata": {},
   "outputs": [
    {
     "data": {
      "text/plain": [
       "75"
      ]
     },
     "execution_count": 95,
     "metadata": {},
     "output_type": "execute_result"
    }
   ],
   "source": [
    "sum(experiments)"
   ]
  },
  {
   "cell_type": "code",
   "execution_count": 127,
   "id": "78c1f95f-0c0e-4ff7-b3bf-a7a105183b7c",
   "metadata": {},
   "outputs": [
    {
     "data": {
      "text/plain": [
       "0.14104"
      ]
     },
     "execution_count": 127,
     "metadata": {},
     "output_type": "execute_result"
    }
   ],
   "source": [
    "sum([len(set([floor(random()*365) for x in range(11)])) < 11 for y in range(100000)])/100000"
   ]
  },
  {
   "cell_type": "code",
   "execution_count": 131,
   "id": "2c454836-fafd-4610-9164-4ded65507fcc",
   "metadata": {},
   "outputs": [],
   "source": [
    "def my_fancy_new_function():\n",
    "    return 1+1"
   ]
  },
  {
   "cell_type": "code",
   "execution_count": 132,
   "id": "6fca4af8-c851-4056-a8e9-428b7ebc1815",
   "metadata": {},
   "outputs": [
    {
     "data": {
      "text/plain": [
       "3"
      ]
     },
     "execution_count": 132,
     "metadata": {},
     "output_type": "execute_result"
    }
   ],
   "source": [
    "1+my_fancy_new_function()"
   ]
  },
  {
   "cell_type": "code",
   "execution_count": 133,
   "id": "acee2939-857b-42b0-86f2-6cd4711e755e",
   "metadata": {},
   "outputs": [],
   "source": [
    "def double_a_number(x):\n",
    "    return 2*x"
   ]
  },
  {
   "cell_type": "code",
   "execution_count": 134,
   "id": "d46d9b0e-4d64-4835-a8d7-bbf7868a322e",
   "metadata": {},
   "outputs": [
    {
     "data": {
      "text/plain": [
       "20"
      ]
     },
     "execution_count": 134,
     "metadata": {},
     "output_type": "execute_result"
    }
   ],
   "source": [
    "double_a_number(10)"
   ]
  },
  {
   "cell_type": "code",
   "execution_count": 135,
   "id": "ae356c91-d9be-46a6-b4b8-7f448dbf3d96",
   "metadata": {},
   "outputs": [],
   "source": [
    "def evalute_collision_p_for_11():\n",
    "    return sum([len(set([floor(random()*365) for x in range(11)])) < 11 for y in range(100000)])/100000"
   ]
  },
  {
   "cell_type": "code",
   "execution_count": 136,
   "id": "8d247cde-b243-4730-8a4f-18642baea44d",
   "metadata": {},
   "outputs": [
    {
     "data": {
      "text/plain": [
       "0.14068"
      ]
     },
     "execution_count": 136,
     "metadata": {},
     "output_type": "execute_result"
    }
   ],
   "source": [
    "evalute_collision_p_for_11()"
   ]
  },
  {
   "cell_type": "code",
   "execution_count": 137,
   "id": "a2195364-23e5-40fe-8951-8a511084eb5e",
   "metadata": {},
   "outputs": [],
   "source": [
    "def evalute_collision_p_for_12():\n",
    "    return sum([len(set([floor(random()*365) for x in range(12)])) < 12 for y in range(100000)])/100000"
   ]
  },
  {
   "cell_type": "code",
   "execution_count": 138,
   "id": "ae988773-64bf-49db-8b1f-63113f131e82",
   "metadata": {},
   "outputs": [
    {
     "data": {
      "text/plain": [
       "0.1678"
      ]
     },
     "execution_count": 138,
     "metadata": {},
     "output_type": "execute_result"
    }
   ],
   "source": [
    "evalute_collision_p_for_12()"
   ]
  },
  {
   "cell_type": "code",
   "execution_count": 139,
   "id": "8ae52b6b-a38c-48c4-96a9-8add249bbbc6",
   "metadata": {},
   "outputs": [],
   "source": [
    "def evaluate_collision(n):\n",
    "        return sum([len(set([floor(random()*365) for x in range(n)])) < n for y in range(100000)])/100000"
   ]
  },
  {
   "cell_type": "code",
   "execution_count": 140,
   "id": "89434609-cfb9-4952-98ba-4d8220934efe",
   "metadata": {},
   "outputs": [
    {
     "ename": "TypeError",
     "evalue": "evaluate_collision() missing 1 required positional argument: 'n'",
     "output_type": "error",
     "traceback": [
      "\u001b[0;31m---------------------------------------------------------------------------\u001b[0m",
      "\u001b[0;31mTypeError\u001b[0m                                 Traceback (most recent call last)",
      "Cell \u001b[0;32mIn[140], line 1\u001b[0m\n\u001b[0;32m----> 1\u001b[0m \u001b[43mevaluate_collision\u001b[49m\u001b[43m(\u001b[49m\u001b[43m)\u001b[49m\n",
      "\u001b[0;31mTypeError\u001b[0m: evaluate_collision() missing 1 required positional argument: 'n'"
     ]
    }
   ],
   "source": [
    "evaluate_collision()"
   ]
  },
  {
   "cell_type": "code",
   "execution_count": 144,
   "id": "d5a3827a-62ac-4a61-a86f-8423dd5d502f",
   "metadata": {},
   "outputs": [
    {
     "data": {
      "text/plain": [
       "[0.11436,\n",
       " 0.14148,\n",
       " 0.16955,\n",
       " 0.19466,\n",
       " 0.2225,\n",
       " 0.25326,\n",
       " 0.28511,\n",
       " 0.31888,\n",
       " 0.34829,\n",
       " 0.37715,\n",
       " 0.4091,\n",
       " 0.44702,\n",
       " 0.47672,\n",
       " 0.50518,\n",
       " 0.54023,\n",
       " 0.56778,\n",
       " 0.59886,\n",
       " 0.62684,\n",
       " 0.65529,\n",
       " 0.68132,\n",
       " 0.7066,\n",
       " 0.7299,\n",
       " 0.75392]"
      ]
     },
     "execution_count": 144,
     "metadata": {},
     "output_type": "execute_result"
    }
   ],
   "source": [
    "[evaluate_collision(x) for x in range(10, 33)]"
   ]
  },
  {
   "cell_type": "code",
   "execution_count": null,
   "id": "9615f583-5369-4d28-9582-0896f3c2c1b9",
   "metadata": {},
   "outputs": [],
   "source": [
    "import "
   ]
  }
 ],
 "metadata": {
  "kernelspec": {
   "display_name": "Python 3 (ipykernel)",
   "language": "python",
   "name": "python3"
  },
  "language_info": {
   "codemirror_mode": {
    "name": "ipython",
    "version": 3
   },
   "file_extension": ".py",
   "mimetype": "text/x-python",
   "name": "python",
   "nbconvert_exporter": "python",
   "pygments_lexer": "ipython3",
   "version": "3.10.13"
  }
 },
 "nbformat": 4,
 "nbformat_minor": 5
}
