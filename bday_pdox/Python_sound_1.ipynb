{
 "cells": [
  {
   "cell_type": "markdown",
   "id": "cfe86dfc-b87e-49ac-8aa4-5ea9b6e4eb11",
   "metadata": {},
   "source": [
    "First, some recap on estimating the probability for two p"
   ]
  },
  {
   "cell_type": "code",
   "execution_count": 1,
   "id": "e1ba56c7-d097-4c3e-b01a-cd57ed35c00b",
   "metadata": {},
   "outputs": [],
   "source": [
    "from random import random"
   ]
  },
  {
   "cell_type": "code",
   "execution_count": 2,
   "id": "b63d550c-d44f-43cc-8288-e8a0afe844cb",
   "metadata": {},
   "outputs": [
    {
     "data": {
      "text/plain": [
       "0.3779845098537655"
      ]
     },
     "execution_count": 2,
     "metadata": {},
     "output_type": "execute_result"
    }
   ],
   "source": [
    "random()"
   ]
  },
  {
   "cell_type": "code",
   "execution_count": 3,
   "id": "08d09d96-adc5-428b-a981-96eca518081e",
   "metadata": {},
   "outputs": [
    {
     "data": {
      "text/plain": [
       "264"
      ]
     },
     "execution_count": 3,
     "metadata": {},
     "output_type": "execute_result"
    }
   ],
   "source": [
    "from math import floor\n",
    "floor(random()*365)"
   ]
  },
  {
   "cell_type": "code",
   "execution_count": 4,
   "id": "607da7a5-98b1-4568-926f-47e620ade26d",
   "metadata": {},
   "outputs": [
    {
     "data": {
      "text/plain": [
       "[303, 87, 19, 60, 111, 25, 331, 46, 128, 178, 204]"
      ]
     },
     "execution_count": 4,
     "metadata": {},
     "output_type": "execute_result"
    }
   ],
   "source": [
    "[floor(random()*365), floor(random()*365), floor(random()*365), floor(random()*365), floor(random()*365), floor(random()*365), floor(random()*365), floor(random()*365), floor(random()*365), floor(random()*365), floor(random()*365), ]"
   ]
  },
  {
   "cell_type": "code",
   "execution_count": 5,
   "id": "ac9698c0-88bf-4408-ad54-810dbf9d0a58",
   "metadata": {},
   "outputs": [
    {
     "data": {
      "text/plain": [
       "[1, 4, 9, 16, 25]"
      ]
     },
     "execution_count": 5,
     "metadata": {},
     "output_type": "execute_result"
    }
   ],
   "source": [
    "[x*x for x in [1,2,3,4,5]]"
   ]
  },
  {
   "cell_type": "code",
   "execution_count": 6,
   "id": "42bb10ba-a8f7-462a-81cd-1caba63c0e1b",
   "metadata": {},
   "outputs": [
    {
     "data": {
      "text/plain": [
       "[0, 1, 4, 9, 16]"
      ]
     },
     "execution_count": 6,
     "metadata": {},
     "output_type": "execute_result"
    }
   ],
   "source": [
    "[x*x for x in range(5)]"
   ]
  },
  {
   "cell_type": "code",
   "execution_count": 7,
   "id": "df00db53-fada-4f88-904f-e00ee17f7859",
   "metadata": {},
   "outputs": [
    {
     "data": {
      "text/plain": [
       "[253,\n",
       " 364,\n",
       " 283,\n",
       " 51,\n",
       " 324,\n",
       " 316,\n",
       " 258,\n",
       " 362,\n",
       " 358,\n",
       " 186,\n",
       " 129,\n",
       " 314,\n",
       " 145,\n",
       " 46,\n",
       " 166,\n",
       " 58,\n",
       " 97,\n",
       " 232,\n",
       " 230,\n",
       " 309,\n",
       " 250,\n",
       " 200,\n",
       " 54,\n",
       " 134,\n",
       " 177,\n",
       " 121,\n",
       " 26,\n",
       " 22,\n",
       " 2,\n",
       " 240,\n",
       " 316,\n",
       " 2,\n",
       " 226]"
      ]
     },
     "execution_count": 7,
     "metadata": {},
     "output_type": "execute_result"
    }
   ],
   "source": [
    "[floor(random()*365) for x in range(33)]"
   ]
  },
  {
   "cell_type": "code",
   "execution_count": 8,
   "id": "63cf3627-8427-4cba-b6cd-3bef147fd177",
   "metadata": {},
   "outputs": [
    {
     "data": {
      "text/plain": [
       "{1, 2, 3}"
      ]
     },
     "execution_count": 8,
     "metadata": {},
     "output_type": "execute_result"
    }
   ],
   "source": [
    "set([1,2,2,2,2,2,3])"
   ]
  },
  {
   "cell_type": "code",
   "execution_count": 9,
   "id": "63a68640-f30f-426b-a07d-ed2d9eccc7a6",
   "metadata": {},
   "outputs": [
    {
     "data": {
      "text/plain": [
       "3"
      ]
     },
     "execution_count": 9,
     "metadata": {},
     "output_type": "execute_result"
    }
   ],
   "source": [
    "len(set([1,2,2,2,2,2,3]))"
   ]
  },
  {
   "cell_type": "code",
   "execution_count": 10,
   "id": "41ea34f9-9cda-4c82-93a8-f66b09b8d8b8",
   "metadata": {},
   "outputs": [],
   "source": [
    "def make_an_experiment():\n",
    "    people = [floor(random()*365)+x-x for x in range(33)]\n",
    "    return len(set(people)) < 33"
   ]
  },
  {
   "cell_type": "code",
   "execution_count": 11,
   "id": "77280c44-320a-476d-ade2-e23d50243b2b",
   "metadata": {},
   "outputs": [
    {
     "data": {
      "text/plain": [
       "True"
      ]
     },
     "execution_count": 11,
     "metadata": {},
     "output_type": "execute_result"
    }
   ],
   "source": [
    "make_an_experiment()"
   ]
  },
  {
   "cell_type": "code",
   "execution_count": 12,
   "id": "511c3f94-4d57-4790-8843-0d3015aec654",
   "metadata": {},
   "outputs": [
    {
     "data": {
      "text/plain": [
       "0.7781"
      ]
     },
     "execution_count": 12,
     "metadata": {},
     "output_type": "execute_result"
    }
   ],
   "source": [
    "sum([make_an_experiment() for x in range(10000)])/10000"
   ]
  },
  {
   "cell_type": "code",
   "execution_count": 13,
   "id": "29a36b09-547d-44a1-8bbb-72cea38e7005",
   "metadata": {},
   "outputs": [],
   "source": [
    "def make_an_experiment(n):\n",
    "    people = [floor(random()*365)+x-x for x in range(n)]\n",
    "    return len(set(people)) < n"
   ]
  },
  {
   "cell_type": "code",
   "execution_count": 14,
   "id": "e95885c9-719e-48a7-b632-97ee5463a607",
   "metadata": {},
   "outputs": [
    {
     "data": {
      "text/plain": [
       "0.1139"
      ]
     },
     "execution_count": 14,
     "metadata": {},
     "output_type": "execute_result"
    }
   ],
   "source": [
    "sum([make_an_experiment(10) for x in range(10000)])/10000"
   ]
  },
  {
   "cell_type": "code",
   "execution_count": 15,
   "id": "c0f080ae-7c11-4146-b56b-ff55fa74b8bc",
   "metadata": {},
   "outputs": [],
   "source": [
    "def estimate_collision_probability(n):\n",
    "    return sum([make_an_experiment(n) for x in range(10000)])/10000"
   ]
  },
  {
   "cell_type": "code",
   "execution_count": 17,
   "id": "c4c2b511-3d82-4861-afc0-469cb048d7b9",
   "metadata": {},
   "outputs": [
    {
     "data": {
      "text/plain": [
       "0.7826"
      ]
     },
     "execution_count": 17,
     "metadata": {},
     "output_type": "execute_result"
    }
   ],
   "source": [
    "estimate_collision_probability(33)"
   ]
  },
  {
   "cell_type": "code",
   "execution_count": 18,
   "id": "b5f398a0-27d5-4929-8ba0-f38b7ec288e5",
   "metadata": {},
   "outputs": [
    {
     "data": {
      "text/plain": [
       "[0.1165,\n",
       " 0.1448,\n",
       " 0.164,\n",
       " 0.1949,\n",
       " 0.2173,\n",
       " 0.2583,\n",
       " 0.2844,\n",
       " 0.3139,\n",
       " 0.356,\n",
       " 0.3798,\n",
       " 0.4091,\n",
       " 0.4461,\n",
       " 0.4704,\n",
       " 0.5086,\n",
       " 0.5361,\n",
       " 0.5709,\n",
       " 0.5994,\n",
       " 0.6198,\n",
       " 0.6505,\n",
       " 0.6765,\n",
       " 0.7051,\n",
       " 0.7325,\n",
       " 0.7534,\n",
       " 0.7701,\n",
       " 0.789,\n",
       " 0.8107,\n",
       " 0.8252,\n",
       " 0.8481,\n",
       " 0.8603,\n",
       " 0.8833,\n",
       " 0.8854,\n",
       " 0.8971,\n",
       " 0.9163,\n",
       " 0.9295,\n",
       " 0.9324,\n",
       " 0.9397,\n",
       " 0.9488,\n",
       " 0.9557,\n",
       " 0.9599,\n",
       " 0.9626,\n",
       " 0.9714,\n",
       " 0.975,\n",
       " 0.9783,\n",
       " 0.9817,\n",
       " 0.9812,\n",
       " 0.9862,\n",
       " 0.9881,\n",
       " 0.9903,\n",
       " 0.9911,\n",
       " 0.9946,\n",
       " 0.9942,\n",
       " 0.995,\n",
       " 0.9962,\n",
       " 0.9951,\n",
       " 0.9976,\n",
       " 0.9969,\n",
       " 0.9974,\n",
       " 0.9991,\n",
       " 0.9988,\n",
       " 0.999,\n",
       " 0.999,\n",
       " 0.9992,\n",
       " 0.9992,\n",
       " 0.9996,\n",
       " 0.9997,\n",
       " 0.9997,\n",
       " 0.9996,\n",
       " 0.9998,\n",
       " 1.0,\n",
       " 1.0,\n",
       " 0.9999,\n",
       " 0.9998,\n",
       " 0.9999,\n",
       " 1.0,\n",
       " 1.0,\n",
       " 1.0,\n",
       " 1.0,\n",
       " 1.0,\n",
       " 1.0,\n",
       " 1.0,\n",
       " 1.0,\n",
       " 1.0,\n",
       " 1.0,\n",
       " 1.0,\n",
       " 1.0,\n",
       " 1.0,\n",
       " 1.0,\n",
       " 1.0,\n",
       " 1.0,\n",
       " 1.0]"
      ]
     },
     "execution_count": 18,
     "metadata": {},
     "output_type": "execute_result"
    }
   ],
   "source": [
    "[estimate_collision_probability(x) for x in range(10, 100)]"
   ]
  },
  {
   "cell_type": "code",
   "execution_count": 19,
   "id": "6c27cfc5-1590-406b-bdeb-33c25e39f3b6",
   "metadata": {},
   "outputs": [],
   "source": [
    "%matplotlib inline"
   ]
  },
  {
   "cell_type": "code",
   "execution_count": 20,
   "id": "f3cc8244-f306-4845-89bd-dfcbb63d89dc",
   "metadata": {},
   "outputs": [],
   "source": [
    "from matplotlib import pyplot as plt"
   ]
  },
  {
   "cell_type": "code",
   "execution_count": 21,
   "id": "2540c5e8-e2a9-4f11-9467-9ef8281e70a6",
   "metadata": {},
   "outputs": [
    {
     "data": {
      "text/plain": [
       "[<matplotlib.lines.Line2D at 0x1060d09a0>]"
      ]
     },
     "execution_count": 21,
     "metadata": {},
     "output_type": "execute_result"
    },
    {
     "data": {
      "image/png": "[encoded data removed]",
      "text/plain": [
       "<Figure size 640x480 with 1 Axes>"
      ]
     },
     "metadata": {},
     "output_type": "display_data"
    }
   ],
   "source": [
    "plt.plot([1,2,3,4,5,6])"
   ]
  },
  {
   "cell_type": "code",
   "execution_count": 22,
   "id": "593da680-2af5-4285-8fe2-ab69854ca76f",
   "metadata": {},
   "outputs": [
    {
     "data": {
      "text/plain": [
       "[<matplotlib.lines.Line2D at 0x10619ed40>]"
      ]
     },
     "execution_count": 22,
     "metadata": {},
     "output_type": "execute_result"
    },
    {
     "data": {
      "image/png": "[encoded data removed]",
      "text/plain": [
       "<Figure size 640x480 with 1 Axes>"
      ]
     },
     "metadata": {},
     "output_type": "display_data"
    }
   ],
   "source": [
    "numbers = [x**2 for x in range(20)]\n",
    "plt.plot(numbers)"
   ]
  },
  {
   "cell_type": "code",
   "execution_count": 23,
   "id": "dac36cef-55ab-4e37-a627-b4ac2b9a5fca",
   "metadata": {},
   "outputs": [
    {
     "name": "stdout",
     "output_type": "stream",
     "text": [
      "[0, 1, 4, 9, 16, 25, 36, 49, 64, 81, 100, 121, 144, 169, 196, 225, 256, 289, 324, 361]\n"
     ]
    }
   ],
   "source": [
    "print(numbers)"
   ]
  },
  {
   "cell_type": "code",
   "execution_count": 24,
   "id": "b2911c77-e0df-4151-b83a-17c01dbb62db",
   "metadata": {},
   "outputs": [
    {
     "name": "stdout",
     "output_type": "stream",
     "text": [
      "[0.1165, 0.1448, 0.164, 0.1949, 0.2173, 0.2583, 0.2844, 0.3139, 0.356, 0.3798, 0.4091, 0.4461, 0.4704, 0.5086, 0.5361, 0.5709, 0.5994, 0.6198, 0.6505, 0.6765, 0.7051, 0.7325, 0.7534, 0.7701, 0.789, 0.8107, 0.8252, 0.8481, 0.8603, 0.8833, 0.8854, 0.8971, 0.9163, 0.9295, 0.9324, 0.9397, 0.9488, 0.9557, 0.9599, 0.9626, 0.9714, 0.975, 0.9783, 0.9817, 0.9812, 0.9862, 0.9881, 0.9903, 0.9911, 0.9946, 0.9942, 0.995, 0.9962, 0.9951, 0.9976, 0.9969, 0.9974, 0.9991, 0.9988, 0.999, 0.999, 0.9992, 0.9992, 0.9996, 0.9997, 0.9997, 0.9996, 0.9998, 1.0, 1.0, 0.9999, 0.9998, 0.9999, 1.0, 1.0, 1.0, 1.0, 1.0, 1.0, 1.0, 1.0, 1.0, 1.0, 1.0, 1.0, 1.0, 1.0, 1.0, 1.0, 1.0]\n"
     ]
    }
   ],
   "source": [
    "print(_18)"
   ]
  },
  {
   "cell_type": "code",
   "execution_count": 25,
   "id": "be82372e-e4e6-4eb9-8553-7def1c298712",
   "metadata": {},
   "outputs": [
    {
     "data": {
      "text/plain": [
       "[<matplotlib.lines.Line2D at 0x1062355d0>]"
      ]
     },
     "execution_count": 25,
     "metadata": {},
     "output_type": "execute_result"
    },
    {
     "data": {
      "image/png": "[encoded data removed]",
      "text/plain": [
       "<Figure size 640x480 with 1 Axes>"
      ]
     },
     "metadata": {},
     "output_type": "display_data"
    }
   ],
   "source": [
    "plt.plot(_18)"
   ]
  },
  {
   "cell_type": "code",
   "execution_count": 26,
   "id": "c7ca1a44-5ae9-4429-b5d6-de830c44eed0",
   "metadata": {},
   "outputs": [
    {
     "name": "stdout",
     "output_type": "stream",
     "text": [
      "Requirement already satisfied: sounddevice in ./.venv/lib/python3.10/site-packages (0.5.2)\n",
      "Requirement already satisfied: CFFI>=1.0 in ./.venv/lib/python3.10/site-packages (from sounddevice) (2.0.0)\n",
      "Requirement already satisfied: pycparser in ./.venv/lib/python3.10/site-packages (from CFFI>=1.0->sounddevice) (2.23)\n",
      "Note: you may need to restart the kernel to use updated packages.\n"
     ]
    }
   ],
   "source": [
    "%pip install sounddevice"
   ]
  },
  {
   "cell_type": "code",
   "execution_count": 27,
   "id": "c8f664c8-5f52-43e6-b59b-f3d770e87005",
   "metadata": {},
   "outputs": [],
   "source": [
    "from sounddevice import play"
   ]
  },
  {
   "cell_type": "code",
   "execution_count": 28,
   "id": "0f2efa20-5204-4e99-9763-224d6cbadce2",
   "metadata": {},
   "outputs": [],
   "source": [
    "play([random() for x in range(44100)], 44100)"
   ]
  },
  {
   "cell_type": "code",
   "execution_count": 29,
   "id": "4ba3ffdd-845d-4534-97b3-92a39f8d63f5",
   "metadata": {},
   "outputs": [],
   "source": [
    "from math import sin"
   ]
  },
  {
   "cell_type": "code",
   "execution_count": 30,
   "id": "ddb89952-b96f-452e-86c7-5f79c9137f3a",
   "metadata": {},
   "outputs": [
    {
     "data": {
      "text/plain": [
       "0.0"
      ]
     },
     "execution_count": 30,
     "metadata": {},
     "output_type": "execute_result"
    }
   ],
   "source": [
    "sin(0)"
   ]
  },
  {
   "cell_type": "code",
   "execution_count": 31,
   "id": "e6e45e55-a464-4c54-a37e-ffd080cecdad",
   "metadata": {},
   "outputs": [
    {
     "data": {
      "text/plain": [
       "0.8939966636005579"
      ]
     },
     "execution_count": 31,
     "metadata": {},
     "output_type": "execute_result"
    }
   ],
   "source": [
    "sin(90)"
   ]
  },
  {
   "cell_type": "code",
   "execution_count": 32,
   "id": "edb538a4-c3e4-49b1-bc18-6b5ad928782f",
   "metadata": {},
   "outputs": [],
   "source": [
    "from math import pi"
   ]
  },
  {
   "cell_type": "code",
   "execution_count": 33,
   "id": "f2a87464-ef2e-4563-add4-30be820d7b0a",
   "metadata": {},
   "outputs": [
    {
     "data": {
      "text/plain": [
       "-2.4492935982947064e-16"
      ]
     },
     "execution_count": 33,
     "metadata": {},
     "output_type": "execute_result"
    }
   ],
   "source": [
    "sin(2*pi)"
   ]
  },
  {
   "cell_type": "code",
   "execution_count": 38,
   "id": "3eeb8bbb-a506-49a0-b0ce-ae11b341e9cb",
   "metadata": {},
   "outputs": [],
   "source": [
    "play([sin(x) for x in range(44100)])"
   ]
  },
  {
   "cell_type": "code",
   "execution_count": 39,
   "id": "26acb0db-35ef-40d5-aa6c-be62b24575ae",
   "metadata": {},
   "outputs": [],
   "source": [
    "play([sin(x/44100) for x in range(44100)])\n",
    "     "
   ]
  },
  {
   "cell_type": "code",
   "execution_count": 40,
   "id": "5d47611e-d21c-424d-b9f6-df2886d23721",
   "metadata": {},
   "outputs": [
    {
     "data": {
      "text/plain": [
       "[<matplotlib.lines.Line2D at 0x1062beb30>]"
      ]
     },
     "execution_count": 40,
     "metadata": {},
     "output_type": "execute_result"
    },
    {
     "data": {
      "image/png": "[encoded data removed]",
      "text/plain": [
       "<Figure size 640x480 with 1 Axes>"
      ]
     },
     "metadata": {},
     "output_type": "display_data"
    }
   ],
   "source": [
    "plt.plot([sin(x/44100*2*pi*440) for x in range(44100)])"
   ]
  },
  {
   "cell_type": "code",
   "execution_count": 41,
   "id": "b22a2bf4-71c9-4507-8c2a-2fffdb74135e",
   "metadata": {},
   "outputs": [
    {
     "data": {
      "text/plain": [
       "[<matplotlib.lines.Line2D at 0x10638a6e0>]"
      ]
     },
     "execution_count": 41,
     "metadata": {},
     "output_type": "execute_result"
    },
    {
     "data": {
      "image/png": "[encoded data removed]",
      "text/plain": [
       "<Figure size 640x480 with 1 Axes>"
      ]
     },
     "metadata": {},
     "output_type": "display_data"
    }
   ],
   "source": [
    "plt.plot(([sin(x/44100*2*pi*440) for x in range(44100)][:1000]))"
   ]
  },
  {
   "cell_type": "code",
   "execution_count": 42,
   "id": "a41b743c-b17e-4023-ad04-d42dc0af686b",
   "metadata": {},
   "outputs": [],
   "source": [
    "A4wave = [sin(x/44100*2*pi*440) for x in range(44100)]"
   ]
  },
  {
   "cell_type": "code",
   "execution_count": 43,
   "id": "2d5dfad9-213d-4d7c-8f6a-29a15c17a880",
   "metadata": {},
   "outputs": [],
   "source": [
    "play(A4wave)"
   ]
  },
  {
   "cell_type": "code",
   "execution_count": 44,
   "id": "bce5826b-2003-4b64-91c9-6193731598e7",
   "metadata": {},
   "outputs": [],
   "source": [
    "B4wave = [sin(x/44100*2*pi*493) for x in range(44100)]"
   ]
  },
  {
   "cell_type": "code",
   "execution_count": 45,
   "id": "6faf3626-16d5-482d-90c0-1e025e15fd6f",
   "metadata": {},
   "outputs": [],
   "source": [
    "play(B4wave)"
   ]
  },
  {
   "cell_type": "code",
   "execution_count": 46,
   "id": "36b691ab-5037-43bd-af82-866f3ad38598",
   "metadata": {},
   "outputs": [],
   "source": [
    "play(A4wave+B4wave)"
   ]
  },
  {
   "cell_type": "code",
   "execution_count": 47,
   "id": "881c3f13-7541-4167-b464-942e48496bd5",
   "metadata": {},
   "outputs": [],
   "source": [
    "from math import pow\n",
    "CS5wave = [sin(x/44100*2*pi*493*pow(2, 2/12)) for x in range(44100)]"
   ]
  },
  {
   "cell_type": "code",
   "execution_count": 48,
   "id": "23c6036c-c607-4f7e-836e-f7b931d27b67",
   "metadata": {},
   "outputs": [],
   "source": [
    "superwave = A4wave + B4wave + CS5wave + A4wave"
   ]
  },
  {
   "cell_type": "code",
   "execution_count": 49,
   "id": "df3c029d-80c1-404d-88c3-9c142258920b",
   "metadata": {},
   "outputs": [],
   "source": [
    "play(superwave*2)"
   ]
  },
  {
   "cell_type": "code",
   "execution_count": 50,
   "id": "d0d7f652-3594-4c3f-a4fe-d5e05c9287f0",
   "metadata": {},
   "outputs": [],
   "source": [
    "silence = [0 for x in range(int(44100/2))]"
   ]
  },
  {
   "cell_type": "code",
   "execution_count": 51,
   "id": "f05123a4-d58a-4194-91c8-75d32634981a",
   "metadata": {},
   "outputs": [],
   "source": [
    "play([sin(x/44100*2*pi*493) for x in range(2000)])"
   ]
  },
  {
   "cell_type": "code",
   "execution_count": 54,
   "id": "0ba49a92-7dcc-4122-938e-3103e958cd7d",
   "metadata": {},
   "outputs": [],
   "source": [
    "fifth_above = [sin(x/44100*2*pi*440*pow(2,7/12)) for x in range(44100)]"
   ]
  },
  {
   "cell_type": "code",
   "execution_count": 55,
   "id": "82459a84-9607-479e-abe3-23e1630bde0c",
   "metadata": {},
   "outputs": [],
   "source": [
    "play(A4wave + fifth_above)"
   ]
  },
  {
   "cell_type": "code",
   "execution_count": 62,
   "id": "65abac95-eca1-43ff-af29-ac239a213f4f",
   "metadata": {},
   "outputs": [],
   "source": [
    "def mix_two_waves(waveA, waveB):\n",
    "    return [waveA[i] + waveB[i] for i in range(len(waveA))]"
   ]
  },
  {
   "cell_type": "code",
   "execution_count": 64,
   "id": "7a0eb81a-bbc6-4d55-a6af-87114cc43627",
   "metadata": {},
   "outputs": [],
   "source": [
    "power_chord = mix_two_waves(A4wave, fifth_above)"
   ]
  },
  {
   "cell_type": "code",
   "execution_count": 66,
   "id": "e9f4448f-237e-44fb-a11a-24dbb429da8b",
   "metadata": {},
   "outputs": [],
   "source": [
    "play(power_chord)"
   ]
  },
  {
   "cell_type": "code",
   "execution_count": 67,
   "id": "f9e29255-78f1-45f5-80b9-b58c9aadd7ff",
   "metadata": {},
   "outputs": [],
   "source": [
    "mystery_wave = [sin(x/44100*2*pi*400*pow(2, -0.003*x)) for x in range(22100)]"
   ]
  },
  {
   "cell_type": "code",
   "execution_count": 68,
   "id": "9061d9f3-c33a-48a5-8051-61f0b82c1056",
   "metadata": {},
   "outputs": [
    {
     "data": {
      "text/plain": [
       "[<matplotlib.lines.Line2D at 0x111f8f760>]"
      ]
     },
     "execution_count": 68,
     "metadata": {},
     "output_type": "execute_result"
    },
    {
     "data": {
      "image/png": "[encoded data removed]",
      "text/plain": [
       "<Figure size 640x480 with 1 Axes>"
      ]
     },
     "metadata": {},
     "output_type": "display_data"
    }
   ],
   "source": [
    "plt.plot(mystery_wave)"
   ]
  },
  {
   "cell_type": "code",
   "execution_count": 69,
   "id": "c6940b33-12f8-44e6-8901-789b38942091",
   "metadata": {},
   "outputs": [],
   "source": [
    "play(mystery_wave*10)"
   ]
  },
  {
   "cell_type": "code",
   "execution_count": 71,
   "id": "ed83d759-57db-478d-92c8-4086e321d33f",
   "metadata": {},
   "outputs": [],
   "source": [
    "hihat = [random()*0.3 for _ in range(int(44100/18))]"
   ]
  },
  {
   "cell_type": "code",
   "execution_count": 72,
   "id": "56b746dd-16ea-44e2-bb91-cdfba371c21c",
   "metadata": {},
   "outputs": [],
   "source": [
    "play((hihat+[0 for _ in range(int(44100/3))])*10)"
   ]
  },
  {
   "cell_type": "markdown",
   "id": "6ef92f9a-b565-4dd9-8e39-98f83685d734",
   "metadata": {},
   "source": [
    "## Exercises:\n",
    "\n",
    "1. create some drum pattern that you like (be ambitious!)\n",
    "2. complete the melody"
   ]
  },
  {
   "cell_type": "code",
   "execution_count": 148,
   "id": "e7fb542d-94e5-4fbc-a13b-cab5e762d2b7",
   "metadata": {},
   "outputs": [],
   "source": []
  },
  {
   "cell_type": "code",
   "execution_count": null,
   "id": "b509452e-be7a-41ae-91e8-65cc91298a34",
   "metadata": {},
   "outputs": [],
   "source": []
  }
 ],
 "metadata": {
  "kernelspec": {
   "display_name": "Python 3 (ipykernel)",
   "language": "python",
   "name": "python3"
  },
  "language_info": {
   "codemirror_mode": {
    "name": "ipython",
    "version": 3
   },
   "file_extension": ".py",
   "mimetype": "text/x-python",
   "name": "python",
   "nbconvert_exporter": "python",
   "pygments_lexer": "ipython3",
   "version": "3.10.13"
  }
 },
 "nbformat": 4,
 "nbformat_minor": 5
}
